{
 "cells": [
  {
   "cell_type": "code",
   "execution_count": null,
   "id": "3f2aa85c-bd79-4e81-a851-c0197acfc3b3",
   "metadata": {},
   "outputs": [],
   "source": [
    "from capella2polarion.connectors import polarion_worker\n",
    "from capella2polarion.converters import document_renderer\n",
    "import dotenv\n",
    "import os\n",
    "import capellambse"
   ]
  },
  {
   "cell_type": "markdown",
   "id": "e3f3d9b0-6738-49e0-b1a7-75105f483ebb",
   "metadata": {},
   "source": [
    "Create a `.env` file with the following values:\n",
    "- MODEL_PATH\n",
    "- POLARION_PROJECT\n",
    "- POLARION_HOST\n",
    "- POLARION_PAT"
   ]
  },
  {
   "cell_type": "code",
   "execution_count": null,
   "id": "eedbd73e-aa06-486f-b0d4-7c0daaa9fb62",
   "metadata": {},
   "outputs": [],
   "source": [
    "dotenv.load_dotenv()\n",
    "model = capellambse.MelodyModel(os.environ.get(\"MODEL_PATH\", \"\"))\n",
    "worker = polarion_worker.CapellaPolarionWorker(\n",
    "    polarion_worker.PolarionWorkerParams(\n",
    "            os.environ.get(\"POLARION_PROJECT\", \"\"),\n",
    "            os.environ.get(\"POLARION_HOST\", \"\"),\n",
    "            os.environ.get(\"POLARION_PAT\", \"\"),\n",
    "            delete_work_items=False,\n",
    "        )\n",
    ")\n",
    "worker.load_polarion_work_item_map()"
   ]
  },
  {
   "cell_type": "code",
   "execution_count": null,
   "id": "5f90a03c-15ad-40c0-8132-9073e3e5aa44",
   "metadata": {},
   "outputs": [],
   "source": [
    "renderer = document_renderer.DocumentRenderer(worker.polarion_data_repo, model)"
   ]
  },
  {
   "cell_type": "markdown",
   "id": "c9e3889d-063d-480f-86e8-412af898c426",
   "metadata": {},
   "source": [
    "If the document, we want to render already exists in Polarion, we should request it before we re-render it."
   ]
  },
  {
   "cell_type": "code",
   "execution_count": null,
   "id": "9366113e-6b67-46e7-9d68-44b3f2fde61d",
   "metadata": {},
   "outputs": [],
   "source": [
    "old_doc=worker.client.project_client.documents.get(\"_default\", \"TEST-ICD1\", fields={\"documents\":\"@all\"})"
   ]
  },
  {
   "cell_type": "markdown",
   "id": "542dd1db-2b12-410e-9588-a67b66f7db98",
   "metadata": {},
   "source": [
    "In this example we want to create a document to describe an interface. The template expects the UUID of a component exchange. As we know that the document already exists in Polarion, we pass it to the renderer, to let it reuse existing heading workitems. The workitems which should be updated are returned in addition to the newly generated document."
   ]
  },
  {
   "cell_type": "code",
   "execution_count": null,
   "id": "09742719-766d-40ca-b344-5235dca88933",
   "metadata": {},
   "outputs": [],
   "source": [
    "new_doc, wis=renderer.render_document(\n",
    "    \"document_templates\",\n",
    "    \"test-icd.html.j2\",\n",
    "    document=old_doc,\n",
    "    interface=\"3d21ab4b-7bf6-428b-ba4c-a27bca4e86db\"\n",
    ")"
   ]
  },
  {
   "cell_type": "code",
   "execution_count": null,
   "id": "14f2799a-ba4d-4707-ad3a-36e485cd8065",
   "metadata": {},
   "outputs": [],
   "source": [
    "worker.client.project_client.work_items.update(wis)\n",
    "worker.client.project_client.documents.update(new_doc)"
   ]
  },
  {
   "cell_type": "markdown",
   "id": "7f204e55-1d6d-4ce8-87a2-08520be45a05",
   "metadata": {},
   "source": [
    "If we want to create a new document, we don't have to pass a document"
   ]
  },
  {
   "cell_type": "code",
   "execution_count": null,
   "id": "8756d66b-25e3-48db-bee7-3d321f3d5957",
   "metadata": {},
   "outputs": [],
   "source": [
    "new_doc, wis=renderer.render_document(\n",
    "    \"document_templates\",\n",
    "    \"test-icd.html.j2\",\n",
    "    \"_default\",\n",
    "    \"TEST-ICD6\",\n",
    "    interface=\"3d21ab4b-7bf6-428b-ba4c-a27bca4e86db\"\n",
    ")"
   ]
  },
  {
   "cell_type": "code",
   "execution_count": null,
   "id": "140f553f-ec59-485c-8476-0694de9241f7",
   "metadata": {},
   "outputs": [],
   "source": [
    "worker.client.project_client.documents.create(new_doc)"
   ]
  }
 ],
 "metadata": {
  "kernelspec": {
   "display_name": "capella2polarion",
   "language": "python",
   "name": "capella2polarion"
  },
  "language_info": {
   "codemirror_mode": {
    "name": "ipython",
    "version": 3
   },
   "file_extension": ".py",
   "mimetype": "text/x-python",
   "name": "python",
   "nbconvert_exporter": "python",
   "pygments_lexer": "ipython3",
   "version": "3.11.3"
  }
 },
 "nbformat": 4,
 "nbformat_minor": 5
}
