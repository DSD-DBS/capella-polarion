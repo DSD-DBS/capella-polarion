{
 "cells": [
  {
   "cell_type": "markdown",
   "metadata": {
    "vscode": {
     "languageId": "plaintext"
    }
   },
   "source": [
    "# How to develop and debug a mixed authorized Polarion LiveDoc\n",
    "\n",
    "Welcome to the capella2polarion notebook where local development and debugging \n",
    "of an MA Polarion LiveDoc is showcased. Mixed-authorized means, that we have\n",
    "a live document with sections enhanced by generated content from the model sync\n",
    "or directly from the model. The possibilities are endless.\n",
    "\n",
    "For MA LiveDocs you will need a pre-existing document. In there we need to declare\n",
    "sections for auto generated content. The macro can be copied from the documentation\n",
    "of [Mixed Authority document rendering](https://dsd-dbs.github.io/capella-polarion/configuration/render_documents.html#mixed-authority-mode).\n",
    "\n",
    "This notebook will show you the following:\n",
    "- How to render and maintain auto generated sections in a pre-existing Polarion livedoc\n",
    "- How to configure the `capella2polarion_document_config.yaml.j2` for pipeline usage\n",
    "\n",
    "As always before we can interact with the REST API of Polarion we need to prepare our\n",
    "environment:\n",
    "Inside an `.env` file there are the following values:\n",
    "- POLARION_PROJECT\n",
    "- POLARION_HOST\n",
    "- POLARION_PAT\n",
    "- MODEL_PATH"
   ]
  },
  {
   "cell_type": "code",
   "execution_count": 1,
   "metadata": {},
   "outputs": [],
   "source": [
    "from capella2polarion.connectors import polarion_worker\n",
    "from capella2polarion.converters import document_renderer, document_config\n",
    "\n",
    "import dotenv\n",
    "import os\n",
    "import capellambse\n",
    "import pathlib\n",
    "\n",
    "dotenv.load_dotenv()\n",
    "\n",
    "test_data_path = pathlib.Path(\"../../../tests/data\")\n",
    "\n",
    "model = capellambse.MelodyModel(os.environ.get(\n",
    "    \"MODEL_PATH\") or str(test_data_path / \"model/Melody Model Test.aird\")\n",
    ")\n",
    "worker = polarion_worker.CapellaPolarionWorker(\n",
    "    polarion_worker.PolarionWorkerParams(\n",
    "            os.environ.get(\"POLARION_PROJECT\") or \"\",\n",
    "            os.environ.get(\"POLARION_HOST\") or \"\",\n",
    "            os.environ.get(\"POLARION_PAT\") or \"\",\n",
    "            delete_work_items=False,\n",
    "        )\n",
    ")\n",
    "renderer = document_renderer.DocumentRenderer(\n",
    "    worker.polarion_data_repo,\n",
    "    model,\n",
    "    os.environ.get(\"POLARION_PROJECT\") or \"\",\n",
    "    overwrite_heading_numbering=True,\n",
    "    overwrite_layouts=True,\n",
    ")"
   ]
  },
  {
   "cell_type": "markdown",
   "metadata": {},
   "source": [
    "Don't forget to load the current work items from the sync into the worker, because we need them for references. If a work item isn't synced but a reference inserted in a live doc then the renderer will tell:\n",
    "`Missing UUID: XXX-...` in the rendering. "
   ]
  },
  {
   "cell_type": "code",
   "execution_count": 20,
   "metadata": {},
   "outputs": [],
   "source": [
    "worker.load_polarion_work_item_map()"
   ]
  },
  {
   "cell_type": "markdown",
   "metadata": {},
   "source": [
    "Now we load the current LiveDoc under the specific space `MA-Drafts`. This is configured in\n",
    "the document config `ma_capella2polarion_document_config.yaml`:"
   ]
  },
  {
   "cell_type": "code",
   "execution_count": 2,
   "metadata": {},
   "outputs": [
    {
     "name": "stdout",
     "output_type": "stream",
     "text": [
      "# Copyright DB InfraGO AG and contributors\n",
      "# SPDX-License-Identifier: Apache-2.0\n",
      "\n",
      "mixed_authority:\n",
      "  - template_directory: document_templates\n",
      "    heading_numbering: True\n",
      "    project_id: SPT0Test240118\n",
      "    work_item_layouts:\n",
      "      _C2P_physicalLink:\n",
      "        fields_at_start:\n",
      "          - id\n",
      "      _C2P_physicalActor:\n",
      "        fields_at_start:\n",
      "          - id\n",
      "      _C2P_physicalComponentNode:\n",
      "        fields_at_start:\n",
      "          - id\n",
      "      _C2P_physicalComponentBehavior:\n",
      "        fields_at_start:\n",
      "          - id\n",
      "      _C2P_physicalFunction:\n",
      "        fields_at_start:\n",
      "          - id\n",
      "      _C2P_physicalPort:\n",
      "        fields_at_start:\n",
      "          - id\n",
      "    sections:\n",
      "      PCDContent: test-pcd-mixed-auth.html.j2\n",
      "    instances:\n",
      "      - polarion_space: MA-Drafts\n",
      "        polarion_name: Physical Components Description\n",
      "        params:\n",
      "          kinds:\n",
      "            - SOFTWARE\n",
      "            - HARDWARE\n",
      "\n"
     ]
    }
   ],
   "source": [
    "document_rendering_config_path = pathlib.Path(\"configs/ma_capella2polarion_document_config.yaml.j2\")\n",
    "print(document_rendering_config_path.read_text(encoding=\"utf8\"))"
   ]
  },
  {
   "cell_type": "markdown",
   "metadata": {},
   "source": [
    "You can see that we even provide a `project_id`. So projects outside of the C2P sync project are targetable for enhancing MA Live Docs with generated sections. This only works if the PAT has access (REST-API) to this Polarion project. \n",
    "\n",
    "Now you can see that we have currently one section `PCDContent` configured and the only instance (target Live Doc) is `Physical System Spec - MA Showcase`.\n",
    "Let's have a look into the template `test-pcd-mixed-auth.html.j2` for now:\n",
    "\n",
    "## Polarion Jinja2 template for MA LiveDocs"
   ]
  },
  {
   "cell_type": "code",
   "execution_count": 22,
   "metadata": {},
   "outputs": [
    {
     "name": "stdout",
     "output_type": "stream",
     "text": [
      "{#\n",
      "    Copyright DB InfraGO AG and contributors\n",
      "    SPDX-License-Identifier: Apache-2.0\n",
      "#}\n",
      "\n",
      "{% from 'common-macros.j2' import deployed_components %}\n",
      "{% from 'polarion-props.j2' import table_attributes, th_attributes, td_attributes %}\n",
      "\n",
      "{% for physical_component in model.search(\"PhysicalComponent\") | unique(attribute=\"uuid\") %}\n",
      "\n",
      "    {{ heading(2, \"Definition of \" + physical_component.name, session) }}\n",
      "    <workitem id=\"description-{{ loop.index }}\">{{ physical_component.description | safe }}</workitem>\n",
      "\n",
      "    {{ heading(3, \"Component Boundary\", session) }}\n",
      "    <workitem id=\"context-{{ loop.index }}\">\n",
      "        The figure below provides an overview of <i>{{ physical_component.name }}</i>'s boundary and depicts all the nodes it is connected to.\n",
      "    </workitem>\n",
      "    {{ insert_work_item(physical_component, session) }}\n",
      "\n",
      "    {% for kind in kinds %}\n",
      "        {{ deployed_components(physical_component, kind, \"Deployed \" + kind.capitalize(), 3, session) }}\n",
      "    {% endfor %}\n",
      "\n",
      "{% endfor %}\n",
      "\n"
     ]
    }
   ],
   "source": [
    "print(pathlib.Path(\"document_templates/test-pcd-mixed-auth.html.j2\").read_text(encoding=\"utf8\"))"
   ]
  },
  {
   "cell_type": "markdown",
   "metadata": {},
   "source": [
    "We import the macro `deployed_components` from the common-macros Jinja2 template. This is a way to keep your templates short and precise. It definitely makes sense to divide the concerns of function declarations and template logic. Additional quirks are also imported for Polarion handling the tables correctly.\n",
    "Then for now we have a simple logic implemented for our `PhysicalComponent`s. For each component we define the following:\n",
    "\n",
    "- h2 with the name of the component included\n",
    "- a text work item including the component's description\n",
    "- h3 and a work item reference to the current component\n",
    "- another for loop displaying subcomponents of a certain kind (we only allow SOFTWARE and HARDWARE from the config)\n",
    "\n",
    "Emphasize on some details that seem minor but break the rendering:\n",
    "```html\n",
    "<workitem id=\"description-{{ loop.index }}\">\n",
    "```\n",
    "IDs of work items in a Live-Doc need to be unique. With this statement the renderer will create a new work item of type text and the id set here. With `loop.index` we get the ID unique.\n",
    "\n",
    "Pretty simple. Let's see the code for the macro and then we render this in Polarion:"
   ]
  },
  {
   "cell_type": "code",
   "execution_count": 24,
   "metadata": {},
   "outputs": [
    {
     "name": "stdout",
     "output_type": "stream",
     "text": [
      "{#\n",
      "    Copyright DB InfraGO AG and contributors\n",
      "    SPDX-License-Identifier: Apache-2.0\n",
      "#}\n",
      "\n",
      "{% macro deployed_components(pc, kind, title, level, session) %}\n",
      "    {% set components = [] %}\n",
      "    {% for comp in pc.components %}\n",
      "        {% if comp.kind == kind %}\n",
      "            {% set _ = components.append(comp) %}\n",
      "        {% endif %}\n",
      "    {% endfor %}\n",
      "\n",
      "    {{ heading(level, title, session) }}\n",
      "    {% if components %}\n",
      "        <workitem id=\"deployed-components-{{ pc.uuid }}-{{ kind }}\">\n",
      "            {{- pc.name }} has the following {{ kind.lower() }} components deployed:\n",
      "        </workitem>\n",
      "        {% for component in components %}\n",
      "            {{ insert_work_item(component, session) }}\n",
      "        {% endfor %}\n",
      "    {% else %}\n",
      "        <workitem id=\"deployed-components-{{ pc.uuid }}-{{ kind }}\">\n",
      "            <span style=\"color: red;\"><b>{{- pc.name }}</b> has no subcomponents of kind {{ kind.lower() }}.</span>\n",
      "        </workitem>\n",
      "    {% endif %}\n",
      "{% endmacro %}\n",
      "\n"
     ]
    }
   ],
   "source": [
    "print(pathlib.Path(\"document_templates/common-macros.j2\").read_text(encoding=\"utf8\"))"
   ]
  },
  {
   "cell_type": "markdown",
   "metadata": {},
   "source": [
    "Same here again:\n",
    "```html\n",
    "<workitem id=\"deployed-components-{{ pc.uuid }}-{{ kind }}\">\n",
    "```\n",
    "With a clever combination of the parameters we get the ID unique. Think about how the macro gets called and adjust the template code accordingly.\n",
    "\n",
    "Now let's look at what we need to do for preparing the Live Doc in Polarion:\n",
    "\n",
    "![MA live doc initial](./_static/ma-live-doc.png)\n",
    "\n",
    "The wiki macros you can copy from the documentation. It should look like this\n",
    "```html\n",
    "<div class=\"c2pAreaStart\" id=\"PCDContent\">\n",
    "#set($statusList = [\"doc_open\", \"draft\", \"planned\", \"inReview\"])\n",
    "#if ($statusList.contains($document.getStatus().id))\n",
    "<p style=\"font-weight: bold;background-color: #FFFF00;text-align: center;\">\n",
    "DON'T REMOVE THIS<br>\n",
    "↓↓↓Below this point all content is autogenerated and will be overwritten↓↓↓\n",
    "</p>\n",
    "#end\n",
    "</div>\n",
    "```\n",
    "\n",
    "It is important that the ID matches with the one set in the config and also the class is `c2pAreaStart` for the section initializer and `c2pAreaEnd` for the section end."
   ]
  },
  {
   "cell_type": "markdown",
   "metadata": {},
   "source": [
    "If you want to know more about the features and limitations, head into the\n",
    "documentation of the configuration for [MA live doc rendering](https://dsd-dbs.github.io/capella-polarion/features/render_documents.html#mixed-authority-mode).\n",
    "\n",
    "## How to load the current Polarion LiveDoc and update it\n",
    "Just the same way like we did in the FA LiveDoc showcase:"
   ]
  },
  {
   "cell_type": "code",
   "execution_count": 21,
   "metadata": {},
   "outputs": [],
   "source": [
    "with document_rendering_config_path.open(\"r\", encoding=\"utf8\") as file:\n",
    "    configs = document_config.read_config_file(file, model)\n",
    "\n",
    "documents = worker.load_polarion_documents(configs.iterate_documents())\n",
    "projects_document_data = renderer.render_documents(configs, documents)\n",
    "for project, project_data in projects_document_data.items():\n",
    "    worker.create_documents(project_data.new_docs, project)\n",
    "    worker.update_documents(project_data.updated_docs, project)"
   ]
  },
  {
   "cell_type": "markdown",
   "metadata": {},
   "source": [
    "This brings us to:\n",
    "\n",
    "![MA live doc rendered once](./_static/ma-rendered-live-doc.png)\n",
    "\n",
    "We should enable `context_diagrams` for the referenced work items:"
   ]
  },
  {
   "cell_type": "code",
   "execution_count": 25,
   "metadata": {},
   "outputs": [
    {
     "name": "stdout",
     "output_type": "stream",
     "text": [
      "# Copyright DB InfraGO AG and contributors\n",
      "# SPDX-License-Identifier: Apache-2.0\n",
      "\n",
      "mixed_authority:\n",
      "  - template_directory: document_templates\n",
      "    heading_numbering: True\n",
      "    project_id: SPT0Test240118\n",
      "    work_item_layouts:\n",
      "      _C2P_physicalLink:\n",
      "        fields_at_start:\n",
      "          - id\n",
      "      _C2P_physicalActor:\n",
      "        fields_at_start:\n",
      "          - id\n",
      "      _C2P_physicalComponentNode:\n",
      "        fields_at_start:\n",
      "          - id\n",
      "        fields_at_end:\n",
      "          - context_diagram\n",
      "      _C2P_physicalComponentBehavior:\n",
      "        fields_at_start:\n",
      "          - id\n",
      "        fields_at_end:\n",
      "          - context_diagram\n",
      "      _C2P_physicalFunction:\n",
      "        fields_at_start:\n",
      "          - id\n",
      "        fields_at_end:\n",
      "          - context_diagram\n",
      "      _C2P_physicalPort:\n",
      "        fields_at_start:\n",
      "          - id\n",
      "    sections:\n",
      "      PCDContent: test-pcd-mixed-auth.html.j2\n",
      "    instances:\n",
      "      - polarion_space: MA-Drafts\n",
      "        polarion_name: Physical Components Description\n",
      "        params:\n",
      "          kinds:\n",
      "            - SOFTWARE\n",
      "            - HARDWARE\n",
      "\n"
     ]
    }
   ],
   "source": [
    "document_rendering_config_path = pathlib.Path(\"configs/ma_capella2polarion_document_config.yaml.j2\")\n",
    "print(document_rendering_config_path.read_text(encoding=\"utf8\"))"
   ]
  },
  {
   "cell_type": "code",
   "execution_count": 26,
   "metadata": {},
   "outputs": [],
   "source": [
    "with document_rendering_config_path.open(\"r\", encoding=\"utf8\") as file:\n",
    "    configs = document_config.read_config_file(file, model)\n",
    "\n",
    "documents = worker.load_polarion_documents(configs.iterate_documents())\n",
    "projects_document_data = renderer.render_documents(configs, documents)\n",
    "for project, project_data in projects_document_data.items():\n",
    "    worker.create_documents(project_data.new_docs, project)\n",
    "    worker.update_documents(project_data.updated_docs, project)"
   ]
  },
  {
   "cell_type": "markdown",
   "metadata": {},
   "source": [
    "This brings us:\n",
    "\n",
    "![MA live doc rendered 2nd](./_static/ma-rendered-live-doc-last.png)\n",
    "\n",
    "Be advanteagous and define new sections. Iterate over other attributes of the capellambse object and use the [documentation of py-capellambse](https://dsd-dbs.github.io/py-capellambse/code/capellambse.metamodel.html#). "
   ]
  },
  {
   "cell_type": "markdown",
   "metadata": {},
   "source": []
  }
 ],
 "metadata": {
  "kernelspec": {
   "display_name": "venv",
   "language": "python",
   "name": "python3"
  },
  "language_info": {
   "codemirror_mode": {
    "name": "ipython",
    "version": 3
   },
   "file_extension": ".py",
   "mimetype": "text/x-python",
   "name": "python",
   "nbconvert_exporter": "python",
   "pygments_lexer": "ipython3",
   "version": "3.12.2"
  }
 },
 "nbformat": 4,
 "nbformat_minor": 2
}
